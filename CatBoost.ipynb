{
  "nbformat": 4,
  "nbformat_minor": 0,
  "metadata": {
    "colab": {
      "provenance": [],
      "gpuType": "T4",
      "authorship_tag": "ABX9TyPHDaOjY21vzXb//ydnVmMU",
      "include_colab_link": true
    },
    "kernelspec": {
      "name": "python3",
      "display_name": "Python 3"
    },
    "language_info": {
      "name": "python"
    },
    "accelerator": "GPU"
  },
  "cells": [
    {
      "cell_type": "markdown",
      "metadata": {
        "id": "view-in-github",
        "colab_type": "text"
      },
      "source": [
        "<a href=\"https://colab.research.google.com/github/pascalghanimi/Injury-Prediction-in-Runners/blob/main/CatBoost.ipynb\" target=\"_parent\"><img src=\"https://colab.research.google.com/assets/colab-badge.svg\" alt=\"Open In Colab\"/></a>"
      ]
    },
    {
      "cell_type": "code",
      "execution_count": 1,
      "metadata": {
        "colab": {
          "base_uri": "https://localhost:8080/"
        },
        "id": "WiWE89uWn8sk",
        "outputId": "60b9f9e8-6ce3-4425-fabe-51575af03f98"
      },
      "outputs": [
        {
          "output_type": "stream",
          "name": "stdout",
          "text": [
            "[ 0.77523982  0.48379555 -0.34174298  1.12482238  4.65573275 -0.30257114\n",
            " -0.36195376  1.13221076  0.88408664  0.98946749 -1.07576228 -0.58780279\n",
            " -0.34515758 -0.21498604 -0.25818757 -0.30257114 -0.36653747 -1.10832632\n",
            " -1.12373205 -1.11938273  0.76147321 -0.58880824 -0.33963599 -0.22015974\n",
            " -0.26519341  3.1128211  -0.36131219  0.94306135  0.88408664  0.88198911\n",
            " -1.08073515 -0.58890474 -0.33382237 -0.21223522 -0.26471133 -0.29617444\n",
            " -0.36131219 -1.10795815 -1.12373205 -1.11942205  0.7667035  -0.5913292\n",
            " -0.33382237 -0.22367068 -0.26509659 -0.29617444  2.42402301  0.57403001\n",
            "  0.88989186  0.9965464   0.78053094  2.39956507  5.70866175 -0.21223522\n",
            " -0.26519341  3.3763886  -0.35067995  1.13636789  0.88989186  0.88771258\n",
            "  0.78584128 -0.58219763 -0.3393889  -0.21762941 -0.25818757 -0.28968273\n",
            "  2.19131074  0.96442407  0.89572629  0.67074481  0.37283858 -0.47040001\n",
            " -0.01179093  0.73505066  1.36358038  0.5749299   0.54093582  1.26319022\n",
            "  2.68987335 -0.05530893  0.11981333  1.16084473  1.93101361  0.58806131\n",
            "  0.31429069  0.54930154  0.          0.          0.          0.47359048\n",
            "  0.31496393  0.506043    0.76168876 -0.87286566  0.44649517  0.43053799\n",
            "  1.64433049 -0.58374345  0.51907295  1.7044102   1.32760601 -0.47118256\n",
            " -0.50544217  1.11651535  1.81048891  0.57307681  0.59895503  0.76791466\n",
            "  0.          0.          0.          0.47149609  0.46378132  0.50441598\n",
            " -0.43179051  0.39885895 -0.32948554  0.03127179 -0.23001359 -0.58356248\n",
            " -0.29617444 -0.14608949  0.18933166 -0.4680759  -0.50378097 -1.03687501\n",
            "  0.4503876   0.30414316  0.3037716   0.29562738  0.          0.\n",
            "  0.          0.61601356  0.44677181  0.79278673 -0.14145291 -0.20789179\n",
            " -0.14145235]\n",
            "[ 0.77523982  0.48379555 -0.34174298  1.12482238  4.65573275 -0.30257114\n",
            " -0.36195376  1.13221076  0.88408664  0.98946749 -1.07576228 -0.58780279\n",
            " -0.34515758 -0.21498604 -0.25818757 -0.30257114 -0.36653747 -1.10832632\n",
            " -1.12373205 -1.11938273  0.76147321 -0.58880824 -0.33963599 -0.22015974\n",
            " -0.26519341  3.1128211  -0.36131219  0.94306135  0.88408664  0.88198911\n",
            " -1.08073515 -0.58890474 -0.33382237 -0.21223522 -0.26471133 -0.29617444\n",
            " -0.36131219 -1.10795815 -1.12373205 -1.11942205  0.7667035  -0.5913292\n",
            " -0.33382237 -0.22367068 -0.26509659 -0.29617444  2.42402301  0.57403001\n",
            "  0.88989186  0.9965464   0.78053094  2.39956507  5.70866175 -0.21223522\n",
            " -0.26519341  3.3763886  -0.35067995  1.13636789  0.88989186  0.88771258\n",
            "  0.78584128 -0.58219763 -0.3393889  -0.21762941 -0.25818757 -0.28968273\n",
            "  2.19131074  0.96442407  0.89572629  0.67074481]\n",
            "[[ 0.37283858 -0.47040001 -0.01179093 ... -0.14145291 -0.20789179\n",
            "  -0.14145235]\n",
            " [ 0.37283858 -0.47040001 -0.04442654 ... -0.14145293 -0.20789189\n",
            "  -0.14145256]\n",
            " [ 0.37283858 -0.47040001 -0.04442654 ... -0.14145293 -0.20789189\n",
            "  -0.14145256]\n",
            " ...\n",
            " [ 1.98934151 -0.90183197  0.37983637 ... -0.14145287 -0.20789189\n",
            "  -0.14145266]\n",
            " [ 1.18109004 -1.33326393  0.33088296 ... -0.14145247 -0.20789195\n",
            "  -0.14145304]\n",
            " [-0.43541289  0.39246391  0.05348029 ... -0.14145298 -0.20789181\n",
            "  -0.14145218]]\n",
            "[0 0 0 0 0 0 0 0 0 0 0 0 0 0 0 0 0 0 0 0 0 0 0 0 0 0 0 0 0 0 0 0 0 0 0 0 0\n",
            " 0 0 0 0 0 0 0 0 0 0 0 0 0 0 0 0 0 0 0 0 0 0 0 0 0 0 0 0 0 0 0 0 0 0 0 0 0\n",
            " 0 0 0 0 0 0 0 0 0 0 0 0 0 0 0 0 0 0 0 0 0 0 0 0 0 0 0 0 0 0 0 0 0 0 0 0 0\n",
            " 0 0 0 0 0 0 0 0 0 0 0 0 0 0 0 0 0 0 0 0 0 0 0 0 0 0 0 0 0 0 0 0 0 0 0 0 0\n",
            " 0 0 0 0 0 0 0 0 0 0 0 0 0 0 0 0 0 0 0 0 0 0 0 0 0 0 0 0 0 0 0 0 0 0 0 0 0\n",
            " 0 0 0 0 0 0 0 0 0 0 0 0 0 0 0 0 0 0 0 0 0 0 0 0 0 0 0 0 0 0 0 0 0 0 0 0 0\n",
            " 0 0 0 0 0 0 0 0 0 0 0 0 0 0 0 0 0 0 0 0 0 0 0 0 0 0 0 0 0 0 0 0 0 0 0 0 0\n",
            " 0 0 0 0 0 0 0 0 0 0 0 0 0 0 0 0 0 0 0 0 0 0 0 0 0 0 0 0 0 0 0 0 0 0 0 0 0\n",
            " 0 0 0 0 0 0 0 1 1 1 1 1 1 1]\n",
            "139\n"
          ]
        }
      ],
      "source": [
        "# Datenextraktion für XGBoost\n",
        "import pickle\n",
        "\n",
        "with open(\"features.pkl\", \"rb\") as f:\n",
        "  features = pickle.load(f)\n",
        "\n",
        "with open(\"features_days.pkl\", \"rb\") as f:\n",
        "  features_days = pickle.load(f)\n",
        "\n",
        "with open(\"features_weeks.pkl\", \"rb\") as f:\n",
        "  features_weeks = pickle.load(f)\n",
        "\n",
        "with open(\"features_objective.pkl\", \"rb\") as f:\n",
        "  features_objective = pickle.load(f)\n",
        "\n",
        "with open(\"features_subjective.pkl\", \"rb\") as f:\n",
        "  features_subjective = pickle.load(f)\n",
        "\n",
        "with open(\"labels.pkl\", \"rb\") as f:\n",
        "  labels = pickle.load(f)\n",
        "\n",
        "print(features[0][0]) # greift auf ersten Athleten und erste Reihe zu\n",
        "print(features_days[0][0])\n",
        "print(features_weeks[0])\n",
        "print(labels[0])\n",
        "\n",
        "print(len(features[0][0])) # Anzahl der Features"
      ]
    },
    {
      "cell_type": "code",
      "source": [
        "import numpy as np\n",
        "\n",
        "X = np.vstack([features[athlete_id] for athlete_id in features])\n",
        "X_days = np.vstack([features_days[athlete_id] for athlete_id in features_days])\n",
        "X_weeks = np.vstack([features_weeks[athlete_id] for athlete_id in features_weeks])\n",
        "X_objective = np.vstack([features_objective[athlete_id] for athlete_id in features_objective])\n",
        "X_subjective = np.vstack([features_subjective[athlete_id] for athlete_id in features_subjective])\n",
        "\n",
        "Y = np.hstack([labels[athlete_id] for athlete_id in labels])"
      ],
      "metadata": {
        "id": "bHDWNw0aoCNe"
      },
      "execution_count": 2,
      "outputs": []
    },
    {
      "cell_type": "code",
      "source": [
        "from sklearn.model_selection import train_test_split\n",
        "\n",
        "X_train, X_temp, Y_train, Y_temp = train_test_split(X, Y, test_size=0.3, random_state=42)\n",
        "X_val, X_test, Y_val, Y_test = train_test_split(X_temp, Y_temp, test_size=0.5, random_state=42)\n",
        "\n",
        "X_train_days, X_temp_days, Y_train_days, Y_temp_days = train_test_split(X_days, Y, test_size=0.3, random_state=42)\n",
        "X_val_days, X_test_days, Y_val_days, Y_test_days = train_test_split(X_temp_days, Y_temp_days, test_size=0.5, random_state=42)\n",
        "\n",
        "X_train_weeks, X_temp_weeks, Y_train_weeks, Y_temp_weeks = train_test_split(X_weeks, Y, test_size=0.3, random_state=42)\n",
        "X_val_weeks, X_test_weeks, Y_val_weeks, Y_test_weeks = train_test_split(X_temp_weeks, Y_temp_weeks, test_size=0.5, random_state=42)\n",
        "\n",
        "X_train_subjective, X_temp_subjective, Y_train_subjective, Y_temp_subjective = train_test_split(X_subjective, Y, test_size=0.3, random_state=42)\n",
        "X_val_subjective, X_test_subjective, Y_val_subjective, Y_test_subjective = train_test_split(X_temp_subjective, Y_temp_subjective, test_size=0.5, random_state=42)\n",
        "\n",
        "X_train_objective, X_temp_objective, Y_train_objective, Y_temp_objective = train_test_split(X_objective, Y, test_size=0.3, random_state=42)\n",
        "X_val_objective, X_test_objective, Y_val_objective, Y_test_objective = train_test_split(X_temp_objective, Y_temp_objective, test_size=0.5, random_state=42)\n",
        "\n",
        "print(X_train.shape, X_val.shape, X_test.shape)\n",
        "print(X_train_days.shape, X_val_days.shape, X_test_days.shape)\n",
        "print(X_train_weeks.shape, X_val_weeks.shape, X_test_weeks.shape)\n",
        "print(X_train_subjective.shape, X_val_subjective.shape, X_test_subjective.shape)\n",
        "print(X_train_objective.shape, X_val_objective.shape, X_test_objective.shape)\n",
        "print(Y_train.shape, Y_val.shape, Y_test.shape)"
      ],
      "metadata": {
        "colab": {
          "base_uri": "https://localhost:8080/"
        },
        "id": "nH0TBgeDoEhc",
        "outputId": "dcdbaacc-c3fb-4b8b-ed8b-0aed25785009"
      },
      "execution_count": 3,
      "outputs": [
        {
          "output_type": "stream",
          "name": "stdout",
          "text": [
            "(29876, 139) (6402, 139) (6402, 139)\n",
            "(29876, 70) (6402, 70) (6402, 70)\n",
            "(29876, 69) (6402, 69) (6402, 69)\n",
            "(29876, 48) (6402, 48) (6402, 48)\n",
            "(29876, 91) (6402, 91) (6402, 91)\n",
            "(29876,) (6402,) (6402,)\n"
          ]
        }
      ]
    },
    {
      "cell_type": "code",
      "source": [
        "!pip install catboost"
      ],
      "metadata": {
        "colab": {
          "base_uri": "https://localhost:8080/"
        },
        "id": "5uKDfwxzyMuW",
        "outputId": "6044de86-1e80-495b-afe1-5c04ebc126a2"
      },
      "execution_count": 4,
      "outputs": [
        {
          "output_type": "stream",
          "name": "stdout",
          "text": [
            "Collecting catboost\n",
            "  Downloading catboost-1.2.7-cp311-cp311-manylinux2014_x86_64.whl.metadata (1.2 kB)\n",
            "Requirement already satisfied: graphviz in /usr/local/lib/python3.11/dist-packages (from catboost) (0.20.3)\n",
            "Requirement already satisfied: matplotlib in /usr/local/lib/python3.11/dist-packages (from catboost) (3.10.0)\n",
            "Requirement already satisfied: numpy<2.0,>=1.16.0 in /usr/local/lib/python3.11/dist-packages (from catboost) (1.26.4)\n",
            "Requirement already satisfied: pandas>=0.24 in /usr/local/lib/python3.11/dist-packages (from catboost) (2.2.2)\n",
            "Requirement already satisfied: scipy in /usr/local/lib/python3.11/dist-packages (from catboost) (1.13.1)\n",
            "Requirement already satisfied: plotly in /usr/local/lib/python3.11/dist-packages (from catboost) (5.24.1)\n",
            "Requirement already satisfied: six in /usr/local/lib/python3.11/dist-packages (from catboost) (1.17.0)\n",
            "Requirement already satisfied: python-dateutil>=2.8.2 in /usr/local/lib/python3.11/dist-packages (from pandas>=0.24->catboost) (2.8.2)\n",
            "Requirement already satisfied: pytz>=2020.1 in /usr/local/lib/python3.11/dist-packages (from pandas>=0.24->catboost) (2025.1)\n",
            "Requirement already satisfied: tzdata>=2022.7 in /usr/local/lib/python3.11/dist-packages (from pandas>=0.24->catboost) (2025.1)\n",
            "Requirement already satisfied: contourpy>=1.0.1 in /usr/local/lib/python3.11/dist-packages (from matplotlib->catboost) (1.3.1)\n",
            "Requirement already satisfied: cycler>=0.10 in /usr/local/lib/python3.11/dist-packages (from matplotlib->catboost) (0.12.1)\n",
            "Requirement already satisfied: fonttools>=4.22.0 in /usr/local/lib/python3.11/dist-packages (from matplotlib->catboost) (4.56.0)\n",
            "Requirement already satisfied: kiwisolver>=1.3.1 in /usr/local/lib/python3.11/dist-packages (from matplotlib->catboost) (1.4.8)\n",
            "Requirement already satisfied: packaging>=20.0 in /usr/local/lib/python3.11/dist-packages (from matplotlib->catboost) (24.2)\n",
            "Requirement already satisfied: pillow>=8 in /usr/local/lib/python3.11/dist-packages (from matplotlib->catboost) (11.1.0)\n",
            "Requirement already satisfied: pyparsing>=2.3.1 in /usr/local/lib/python3.11/dist-packages (from matplotlib->catboost) (3.2.1)\n",
            "Requirement already satisfied: tenacity>=6.2.0 in /usr/local/lib/python3.11/dist-packages (from plotly->catboost) (9.0.0)\n",
            "Downloading catboost-1.2.7-cp311-cp311-manylinux2014_x86_64.whl (98.7 MB)\n",
            "\u001b[2K   \u001b[90m━━━━━━━━━━━━━━━━━━━━━━━━━━━━━━━━━━━━━━━━\u001b[0m \u001b[32m98.7/98.7 MB\u001b[0m \u001b[31m7.5 MB/s\u001b[0m eta \u001b[36m0:00:00\u001b[0m\n",
            "\u001b[?25hInstalling collected packages: catboost\n",
            "Successfully installed catboost-1.2.7\n"
          ]
        }
      ]
    },
    {
      "cell_type": "code",
      "source": [
        "import numpy as np\n",
        "import warnings\n",
        "from catboost import CatBoostClassifier\n",
        "from sklearn.metrics import roc_auc_score\n",
        "from sklearn.calibration import CalibratedClassifierCV\n",
        "\n",
        "def train (X_train, Y_train, X_val, Y_val, X_test, Y_test):\n",
        "  warnings.filterwarnings(\"ignore\", category=FutureWarning, module=\"sklearn\")\n",
        "\n",
        "\n",
        "  def get_training_batch(X_train, Y_train, batch_size):\n",
        "    injured_indices = np.where(Y_train == 1)[0]\n",
        "    uninjured_indices = np.where(Y_train == 0)[0]\n",
        "\n",
        "    injured_samples = np.random.choice(injured_indices, size=batch_size//2, replace=True)\n",
        "    uninjured_samples = np.random.choice(uninjured_indices, size=batch_size//2, replace=True)\n",
        "\n",
        "    selected_indices = np.concatenate([injured_samples, uninjured_samples])\n",
        "    np.random.shuffle(selected_indices)\n",
        "\n",
        "    X_batch = X_train[selected_indices]\n",
        "    Y_batch = Y_train[selected_indices]\n",
        "\n",
        "    return X_batch, Y_batch\n",
        "\n",
        "  params = {\n",
        "    'iterations': 2000,  # Erhöht für tiefere Konvergenz\n",
        "    'learning_rate': 0.075,  # Feinabstimmung\n",
        "    'depth': 5,  # Besser für numerische Interaktionen\n",
        "    'l2_leaf_reg': 2.8,  # Präzisere Regularisierung\n",
        "    'border_count': 254,  # Höhere Granularität\n",
        "    'grow_policy': 'Depthwise',  # Besser für stabile Splits\n",
        "    'bootstrap_type': 'MVS',  # Moderneres Sampling\n",
        "    'score_function': 'L2',  # Für numerische Features optimiert\n",
        "    'early_stopping_rounds': 75,  # Aggressiveres Early-Stopping\n",
        "    'boosting_type': 'Plain'  # Wichtig gegen Target Leakage\n",
        "}\n",
        "\n",
        "\n",
        "  num_models = 9\n",
        "  models = []\n",
        "  batch_size = 2048\n",
        "\n",
        "  for model_idx in range(num_models):\n",
        "    X_batch, Y_batch = get_training_batch(X_train, Y_train, batch_size)\n",
        "\n",
        "    model = CatBoostClassifier(**params)\n",
        "    model.fit(\n",
        "    X_batch, Y_batch,\n",
        "    eval_set=(X_val, Y_val),\n",
        "    verbose=False,\n",
        "    use_best_model=True\n",
        "    )\n",
        "\n",
        "    Y_test_pred = model.predict_proba(X_test)[:, 1]\n",
        "    test_auc = roc_auc_score(Y_test, Y_test_pred)\n",
        "    print(f\"Model {model_idx + 1} Test AUC: {test_auc}\")\n",
        "\n",
        "    models.append(model)\n",
        "\n",
        "\n",
        "  calibrated_models = [CalibratedClassifierCV(m, method=\"sigmoid\", cv=\"prefit\").fit(X_val, Y_val) for m in models]\n",
        "\n",
        "  def ensemble_predict(models, X):\n",
        "    probas = np.stack([m.predict_proba(X)[:,1] for m in models])\n",
        "    # Exponentielles Weighting basierend auf Modell-AUC\n",
        "    weights = np.array([roc_auc_score(Y_test, p) ** 2 for p in probas])\n",
        "    return np.average(probas, axis=0, weights=weights)\n",
        "\n",
        "\n",
        "  Y_proba_test = ensemble_predict(calibrated_models, X_test)\n",
        "  test_auc_score = roc_auc_score(Y_test, Y_proba_test)\n",
        "  print(\"Ensemble Test AUC:\", test_auc_score)\n"
      ],
      "metadata": {
        "id": "dvoQejx2oGDj"
      },
      "execution_count": 11,
      "outputs": []
    },
    {
      "cell_type": "code",
      "source": [
        "# Training mit allen Featuren\n",
        "train(X_train, Y_train, X_val, Y_val, X_test, Y_test)"
      ],
      "metadata": {
        "colab": {
          "base_uri": "https://localhost:8080/"
        },
        "id": "BBCfUUuSy-jl",
        "outputId": "8069a477-9c3e-417f-e918-aecfed5fca3b"
      },
      "execution_count": null,
      "outputs": [
        {
          "output_type": "stream",
          "name": "stdout",
          "text": [
            "Model 1 Test AUC: 0.6914771478124924\n",
            "Model 2 Test AUC: 0.6766174243349536\n",
            "Model 3 Test AUC: 0.6602950875735887\n",
            "Model 4 Test AUC: 0.6467468304956397\n"
          ]
        }
      ]
    },
    {
      "cell_type": "code",
      "source": [
        "# Training mit den Tagesdaten\n",
        "train(X_train_days, Y_train_days, X_val_days, Y_val_days, X_test_days, Y_test_days)"
      ],
      "metadata": {
        "id": "8ZpoZR70zA8t"
      },
      "execution_count": null,
      "outputs": []
    },
    {
      "cell_type": "code",
      "source": [
        "# Training mit den Wochendaten\n",
        "train(X_train_weeks, Y_train_weeks, X_val_weeks, Y_val_weeks, X_test_weeks, Y_test_weeks)"
      ],
      "metadata": {
        "id": "nFbnDpSzzCEN"
      },
      "execution_count": null,
      "outputs": []
    },
    {
      "cell_type": "code",
      "source": [
        "# Training mit den objektiven Daten\n",
        "train(X_train_objective, Y_train_objective, X_val_objective, Y_val_objective, X_test_objective, Y_test_objective)"
      ],
      "metadata": {
        "id": "7eWiI-GKzDKW"
      },
      "execution_count": null,
      "outputs": []
    },
    {
      "cell_type": "code",
      "source": [
        "# Training mit den subjektiven Daten\n",
        "train(X_train_subjective, Y_train_subjective, X_val_subjective, Y_val_subjective, X_test_subjective, Y_test_subjective)"
      ],
      "metadata": {
        "id": "WZE09ixLzEKO"
      },
      "execution_count": null,
      "outputs": []
    }
  ]
}