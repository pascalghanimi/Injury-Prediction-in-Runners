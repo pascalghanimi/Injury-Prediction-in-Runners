{
  "nbformat": 4,
  "nbformat_minor": 0,
  "metadata": {
    "colab": {
      "provenance": [],
      "authorship_tag": "ABX9TyN6RwnT2EsUUwGpBwtvJ41C",
      "include_colab_link": true
    },
    "kernelspec": {
      "name": "python3",
      "display_name": "Python 3"
    },
    "language_info": {
      "name": "python"
    }
  },
  "cells": [
    {
      "cell_type": "markdown",
      "metadata": {
        "id": "view-in-github",
        "colab_type": "text"
      },
      "source": [
        "<a href=\"https://colab.research.google.com/github/pascalghanimi/Injury-Prediction-in-Runners/blob/main/Predictions.ipynb\" target=\"_parent\"><img src=\"https://colab.research.google.com/assets/colab-badge.svg\" alt=\"Open In Colab\"/></a>"
      ]
    },
    {
      "cell_type": "code",
      "execution_count": 16,
      "metadata": {
        "id": "5ybhd_1gfZix"
      },
      "outputs": [],
      "source": [
        "import pickle\n",
        "with open(\"PHALP_H_4Sebastian_PS_features.pkl\", \"rb\") as f:\n",
        "  data = pickle.load(f)"
      ]
    },
    {
      "cell_type": "code",
      "source": [
        "import torch\n",
        "import torch.nn as nn\n",
        "\n",
        "class SkiSwingLSTM(nn.Module):\n",
        "    def __init__(self, input_size, hidden_size, num_classes):\n",
        "        super().__init__()\n",
        "        self.lstm = nn.LSTM(\n",
        "            input_size,\n",
        "            hidden_size,\n",
        "            num_layers=2,\n",
        "            bidirectional=True,\n",
        "            batch_first=True,\n",
        "            dropout=0.3\n",
        "        )\n",
        "        self.dropout = nn.Dropout(0.3)\n",
        "        self.fc = nn.Linear(hidden_size * 2, num_classes)  # *2 wegen bidirectional\n",
        "\n",
        "    def forward(self, x):\n",
        "        output, (hidden, _) = self.lstm(x)\n",
        "        hidden = torch.cat((hidden[-2], hidden[-1]), dim=1)\n",
        "        return self.fc(self.dropout(hidden))"
      ],
      "metadata": {
        "id": "l-h3LSBSqJ4u"
      },
      "execution_count": 17,
      "outputs": []
    },
    {
      "cell_type": "code",
      "source": [
        "class FrameWiseLSTM(nn.Module):\n",
        "  def __init__(self, input_size, hidden_size, num_classes):\n",
        "    super().__init__()\n",
        "    self.lstm = nn.LSTM(input_size, hidden_size, num_layers=2, batch_first=True, bidirectional=True, dropout=0.3)\n",
        "    self.dropout = nn.Dropout(0.3)\n",
        "    self.fc = nn.Linear(hidden_size * 2, num_classes)\n",
        "\n",
        "  def forward(self, x):\n",
        "    lstm_out, _ = self.lstm(x)\n",
        "    return self.fc(self.dropout(lstm_out))"
      ],
      "metadata": {
        "id": "7xfO_HJ_tou8"
      },
      "execution_count": 23,
      "outputs": []
    },
    {
      "cell_type": "code",
      "source": [
        "import torch\n",
        "import torch.serialization\n",
        "torch.serialization.add_safe_globals([SkiSwingLSTM])\n",
        "\n",
        "model_schwung = torch.load(\"ski_schwung_classifier.pt\", weights_only=False, map_location=torch.device('cpu'))\n",
        "model_left_right_classifier = torch.load(\"left_right_classifier.pt\", weights_only=False, map_location=torch.device('cpu'))\n"
      ],
      "metadata": {
        "id": "NJtyVxgBgIEG"
      },
      "execution_count": 24,
      "outputs": []
    },
    {
      "cell_type": "code",
      "source": [
        "model_schwung.eval()\n",
        "model_left_right_classifier.eval()"
      ],
      "metadata": {
        "colab": {
          "base_uri": "https://localhost:8080/"
        },
        "id": "LttFMYzIhFu9",
        "outputId": "7cedf8ef-443b-4dce-9385-67403ae27d47"
      },
      "execution_count": 25,
      "outputs": [
        {
          "output_type": "execute_result",
          "data": {
            "text/plain": [
              "FrameWiseLSTM(\n",
              "  (lstm): LSTM(37, 128, num_layers=2, batch_first=True, dropout=0.3, bidirectional=True)\n",
              "  (dropout): Dropout(p=0.3, inplace=False)\n",
              "  (fc): Linear(in_features=256, out_features=3, bias=True)\n",
              ")"
            ]
          },
          "metadata": {},
          "execution_count": 25
        }
      ]
    },
    {
      "cell_type": "code",
      "source": [
        "sequence_data = []\n",
        "\n",
        "for frame_idx in data[\"schwung_labels\"]:\n",
        "    try:\n",
        "        frame_features = []\n",
        "\n",
        "        frame_features.append(data[\"COM_to_ground\"][frame_idx])\n",
        "        frame_features.append(data[\"knee_angles_right\"][frame_idx])\n",
        "        frame_features.append(data[\"knee_angles_left\"][frame_idx])\n",
        "\n",
        "        for axis in data[\"joint_angles\"][frame_idx]:\n",
        "            frame_features.extend(data[\"joint_angles\"][frame_idx][axis].values())\n",
        "\n",
        "        for axis in data[\"axis_angles\"][frame_idx]:\n",
        "            frame_features.extend(data[\"axis_angles\"][frame_idx][axis].values())\n",
        "\n",
        "        frame_features.extend(data[\"COM_angles\"][frame_idx].values())\n",
        "\n",
        "        sequence_data.append(frame_features)\n",
        "\n",
        "    except KeyError as e:\n",
        "        print(f\"Fehler bei Frame {frame_idx}: {e}\")\n",
        "        continue\n"
      ],
      "metadata": {
        "id": "Fwpbz75dhJ4B"
      },
      "execution_count": 26,
      "outputs": []
    },
    {
      "cell_type": "code",
      "source": [
        "x = torch.tensor(sequence_data, dtype=torch.float32).unsqueeze(0)  # Shape: [1, seq_len, input_dim]\n"
      ],
      "metadata": {
        "id": "_mTYpE5bkAUr"
      },
      "execution_count": 28,
      "outputs": []
    },
    {
      "cell_type": "code",
      "source": [
        "# Vorhersage\n",
        "with torch.no_grad():\n",
        "    pred_style = model_schwung(x).argmax(dim=1).item()\n",
        "\n",
        "# Ausgabe\n",
        "print(\"Fahrstil:\", pred_style)"
      ],
      "metadata": {
        "colab": {
          "base_uri": "https://localhost:8080/"
        },
        "id": "NDoV1muwkFBk",
        "outputId": "7b71743a-719e-4478-e10f-442514c5a1f1"
      },
      "execution_count": 30,
      "outputs": [
        {
          "output_type": "stream",
          "name": "stdout",
          "text": [
            "Fahrstil: 2\n"
          ]
        }
      ]
    },
    {
      "cell_type": "code",
      "source": [
        "sequence_data = []\n",
        "\n",
        "for frame_idx in data[\"schwung_labels\"]:\n",
        "    try:\n",
        "        frame_features = []\n",
        "\n",
        "        frame_features.append(data[\"COM_to_ground\"][frame_idx])\n",
        "        frame_features.append(data[\"knee_angles_right\"][frame_idx])\n",
        "        frame_features.append(data[\"knee_angles_left\"][frame_idx])\n",
        "\n",
        "        for axis in data[\"joint_angles\"][frame_idx]:\n",
        "            frame_features.extend(data[\"joint_angles\"][frame_idx][axis].values())\n",
        "\n",
        "        for axis in data[\"axis_angles\"][frame_idx]:\n",
        "            frame_features.extend(data[\"axis_angles\"][frame_idx][axis].values())\n",
        "\n",
        "        frame_features.extend(data[\"COM_angles\"][frame_idx].values())\n",
        "        frame_features.append(pred_style)\n",
        "\n",
        "        sequence_data.append(frame_features)\n",
        "\n",
        "    except KeyError as e:\n",
        "        print(f\"Fehler bei Frame {frame_idx}: {e}\")\n",
        "        continue\n",
        "\n",
        "\n",
        "# 📦 In Tensor umwandeln\n",
        "x_turn = torch.tensor(sequence_data, dtype=torch.float32).unsqueeze(0)  # [1, seq_len, 37]\n"
      ],
      "metadata": {
        "id": "pkfJGdqGvikT"
      },
      "execution_count": 33,
      "outputs": []
    },
    {
      "cell_type": "code",
      "source": [
        "# Vorhersage\n",
        "with torch.no_grad():\n",
        "    pred_turn = model_left_right_classifier(x_turn).argmax(dim=-1).squeeze().numpy()\n",
        "\n",
        "\n",
        "# Ausgabe\n",
        "print(\"Links/Rechts (pro Frame):\", pred_turn)\n"
      ],
      "metadata": {
        "colab": {
          "base_uri": "https://localhost:8080/"
        },
        "id": "PKun6RJevHmg",
        "outputId": "94ff7553-b1e3-4898-9a2d-27a7d8a01224"
      },
      "execution_count": 35,
      "outputs": [
        {
          "output_type": "stream",
          "name": "stdout",
          "text": [
            "Links/Rechts (pro Frame): [1 1 1 1 1 1 1 1 1 1 1 1 1 1 1 1 1 1 1 1 1 1 1 1 1 1 1 1 1 1 1 1 1 1 1 1 1\n",
            " 2 2 2 2 2 2 2 2 2 2 2 2 2 2 2 2 2 2 2 2 2 2 2 2 2 2 2 2 2 2 2 2 2 2 2 2 2\n",
            " 2 2 2 2 2 2 2 2 2 2 2 2 2 2 2 2 2 2 2 2 2 2 2 2 2 2 2 2 2 2 2 2 2 2 2 2 2\n",
            " 2 2 2 1 1 1 1 1 1 1 1 1 1 1 1 1 1 1 1 1 1 1 1 1 1 1 1 1 1 1 1 1 1 1 1 1 1\n",
            " 1 1 1 1 1 1 1 1 1 1 1 1 1 1 1 1 1 1 1 1 1 1 1 1 1 1 1 1 1 1 1 1 1 1 1 1 1\n",
            " 1 1 1 1 1 1 1 1 1 1 1 1 1 1 1 1 1 1 1 1 1 1 1 1 1 1 1 1 1 1 1 1 1 1 1 1 2\n",
            " 2 2 2 2 2 2 2 2 2 2 2 2 2 2 2 2 2 2 2 2 2 2 2 2 2 2 2 2 2 2 2 2 2]\n"
          ]
        }
      ]
    }
  ]
}