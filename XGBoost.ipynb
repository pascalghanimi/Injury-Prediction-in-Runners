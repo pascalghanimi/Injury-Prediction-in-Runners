{
  "nbformat": 4,
  "nbformat_minor": 0,
  "metadata": {
    "colab": {
      "provenance": [],
      "authorship_tag": "ABX9TyMEqR+PD9SEVhl/Gz/wR1Fk",
      "include_colab_link": true
    },
    "kernelspec": {
      "name": "python3",
      "display_name": "Python 3"
    },
    "language_info": {
      "name": "python"
    }
  },
  "cells": [
    {
      "cell_type": "markdown",
      "metadata": {
        "id": "view-in-github",
        "colab_type": "text"
      },
      "source": [
        "<a href=\"https://colab.research.google.com/github/pascalghanimi/Injury-Prediction-in-Runners/blob/main/XGBoost.ipynb\" target=\"_parent\"><img src=\"https://colab.research.google.com/assets/colab-badge.svg\" alt=\"Open In Colab\"/></a>"
      ]
    },
    {
      "cell_type": "code",
      "execution_count": 10,
      "metadata": {
        "colab": {
          "base_uri": "https://localhost:8080/"
        },
        "id": "L0NDZyyn2tbh",
        "outputId": "32468d14-99aa-4226-9d6c-9fd55ac29849"
      },
      "outputs": [
        {
          "output_type": "stream",
          "name": "stdout",
          "text": [
            "[ 1.00000000e+00  0.00000000e+00  0.00000000e+00  0.00000000e+00\n",
            "  0.00000000e+00  0.00000000e+00  1.00000000e+00  8.00000000e-02\n",
            "  0.00000000e+00  1.80000000e-01  1.00000000e+00  1.15000000e+01\n",
            "  5.00000000e+00  0.00000000e+00  0.00000000e+00  0.00000000e+00\n",
            "  0.00000000e+00  1.00000000e-01  0.00000000e+00  1.80000000e-01\n",
            "  0.00000000e+00  0.00000000e+00  0.00000000e+00  0.00000000e+00\n",
            "  0.00000000e+00  0.00000000e+00  0.00000000e+00 -1.00000000e-02\n",
            " -1.00000000e-02 -1.00000000e-02  1.00000000e+00  4.00000000e+00\n",
            "  0.00000000e+00  0.00000000e+00  0.00000000e+00  0.00000000e+00\n",
            "  0.00000000e+00  1.00000000e-01  0.00000000e+00  1.70000000e-01\n",
            "  1.00000000e+00  0.00000000e+00  0.00000000e+00  0.00000000e+00\n",
            "  0.00000000e+00  0.00000000e+00  1.25000000e+00  9.00000000e-02\n",
            "  0.00000000e+00  1.70000000e-01  1.00000000e+00  4.90000000e+00\n",
            "  0.00000000e+00  0.00000000e+00  9.00000000e-01  0.00000000e+00\n",
            "  0.00000000e+00  1.00000000e-01  0.00000000e+00  1.70000000e-01\n",
            "  1.00000000e+00  1.45000000e+01  4.50000000e+00  0.00000000e+00\n",
            "  0.00000000e+00  0.00000000e+00  0.00000000e+00  8.00000000e-02\n",
            "  0.00000000e+00  1.70000000e-01  6.00000000e+00  1.00000000e+00\n",
            "  3.49000000e+01  1.45000000e+01  1.04000000e+01  0.00000000e+00\n",
            "  2.00000000e+00  9.50000000e+00  5.00000000e+00  0.00000000e+00\n",
            "  0.00000000e+00  2.25000000e+00  0.00000000e+00  9.00000000e-02\n",
            "  8.00000000e-02  1.00000000e-01  0.00000000e+00  0.00000000e+00\n",
            "  0.00000000e+00  1.70000000e-01  1.70000000e-01  1.80000000e-01\n",
            "  7.00000000e+00  0.00000000e+00  3.77000000e+01  1.18000000e+01\n",
            "  1.19000000e+01  0.00000000e+00  3.00000000e+00  1.19000000e+01\n",
            "  5.80000000e+00  0.00000000e+00  0.00000000e+00  1.67000000e+00\n",
            "  1.00000000e+00  9.00000000e-02  8.00000000e-02  1.00000000e-01\n",
            "  0.00000000e+00  0.00000000e+00  0.00000000e+00  1.70000000e-01\n",
            "  1.60000000e-01  1.80000000e-01  4.00000000e+00  3.00000000e+00\n",
            "  3.70000000e+00  3.70000000e+00  7.00000000e-01  0.00000000e+00\n",
            "  0.00000000e+00  0.00000000e+00  0.00000000e+00  0.00000000e+00\n",
            "  0.00000000e+00  2.67000000e+00  0.00000000e+00  9.00000000e-02\n",
            "  8.00000000e-02  9.00000000e-02  0.00000000e+00  0.00000000e+00\n",
            "  0.00000000e+00  1.80000000e-01  1.70000000e-01  1.80000000e-01\n",
            "  9.25729418e-01  9.43242988e+00  1.01891864e+01]\n",
            "Shape X_train_injured (402, 139)\n",
            "Size X_train_injured 55878\n",
            "Shape X_train_injured_weeks (402, 69)\n",
            "Shape X_train_injured_days (402, 70)\n"
          ]
        }
      ],
      "source": [
        "import numpy as np\n",
        "\n",
        "all_data = np.load(\"all_data.npz\")\n",
        "\n",
        "X_train_injured = all_data[\"X_train_injured\"]\n",
        "X_val_injured = all_data[\"X_val_injured\"]\n",
        "X_test_injured = all_data[\"X_test_injured\"]\n",
        "Y_train_labels_injured = all_data[\"Y_train_labels_injured\"]\n",
        "Y_val_labels_injured = all_data[\"Y_val_labels_injured\"]\n",
        "Y_test_labels_injured = all_data[\"Y_test_labels_injured\"]\n",
        "X_train_uninjured = all_data[\"X_train_uninjured\"]\n",
        "X_val_uninjured = all_data[\"X_val_uninjured\"]\n",
        "X_test_uninjured = all_data[\"X_test_uninjured\"]\n",
        "Y_train_labels_uninjured = all_data[\"Y_train_labels_uninjured\"]\n",
        "Y_val_labels_uninjured = all_data[\"Y_val_labels_uninjured\"]\n",
        "Y_test_labels_uninjured = all_data[\"Y_test_labels_uninjured\"]\n",
        "\n",
        "\n",
        "weeks_data = np.load(\"weeks_data.npz\")\n",
        "\n",
        "X_train_injured_weeks = weeks_data[\"X_train_injured_weeks\"]\n",
        "X_val_injured_weeks = weeks_data[\"X_val_injured_weeks\"]\n",
        "X_test_injured_weeks = weeks_data[\"X_test_injured_weeks\"]\n",
        "Y_train_labels_injured_weeks = weeks_data[\"Y_train_labels_injured_weeks\"]\n",
        "Y_val_labels_injured_weeks = weeks_data[\"Y_val_labels_injured_weeks\"]\n",
        "Y_test_labels_injured_weeks = weeks_data[\"Y_test_labels_injured_weeks\"]\n",
        "X_train_uninjured_weeks = weeks_data[\"X_train_uninjured_weeks\"]\n",
        "X_val_uninjured_weeks = weeks_data[\"X_val_uninjured_weeks\"]\n",
        "X_test_uninjured_weeks = weeks_data[\"X_test_uninjured_weeks\"]\n",
        "Y_train_labels_uninjured_weeks = weeks_data[\"Y_train_labels_uninjured_weeks\"]\n",
        "Y_val_labels_uninjured_weeks = weeks_data[\"Y_val_labels_uninjured_weeks\"]\n",
        "Y_test_labels_uninjured_weeks = weeks_data[\"Y_test_labels_uninjured_weeks\"]\n",
        "\n",
        "\n",
        "days_data = np.load(\"days_data.npz\")\n",
        "\n",
        "X_train_injured_days = days_data[\"X_train_injured_days\"]\n",
        "X_val_injured_days = days_data[\"X_val_injured_days\"]\n",
        "X_test_injured_days = days_data[\"X_test_injured_days\"]\n",
        "Y_train_labels_injured_days = days_data[\"Y_train_labels_injured_days\"]\n",
        "Y_val_labels_injured_dayss = days_data[\"Y_val_labels_injured_days\"]\n",
        "Y_test_labels_injured_days = days_data[\"Y_test_labels_injured_days\"]\n",
        "X_train_uninjured_days = days_data[\"X_train_uninjured_days\"]\n",
        "X_val_uninjured_days = days_data[\"X_val_uninjured_days\"]\n",
        "X_test_uninjured_days = days_data[\"X_test_uninjured_days\"]\n",
        "Y_train_labels_uninjured_days = days_data[\"Y_train_labels_uninjured_days\"]\n",
        "Y_val_labels_uninjured_days = days_data[\"Y_val_labels_uninjured_days\"]\n",
        "Y_test_labels_uninjured_days = days_data[\"Y_test_labels_uninjured_days\"]\n",
        "\n",
        "\n",
        "print(X_train_injured[0])\n",
        "print(\"Shape X_train_injured\", X_train_injured.shape)\n",
        "print(\"Size X_train_injured\", X_train_injured.size)\n",
        "\n",
        "print(\"Shape X_train_injured_weeks\", X_train_injured_weeks.shape)\n",
        "print(\"Shape X_train_injured_days\", X_train_injured_days.shape)\n"
      ]
    }
  ]
}